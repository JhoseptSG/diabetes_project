{
  "nbformat": 4,
  "nbformat_minor": 0,
  "metadata": {
    "colab": {
      "provenance": []
    },
    "kernelspec": {
      "name": "python3",
      "display_name": "Python 3"
    },
    "language_info": {
      "name": "python"
    }
  },
  "cells": [
    {
      "cell_type": "code",
      "source": [
        "import pandas as pd\n",
        "import numpy as np\n",
        "from sklearn.preprocessing import  StandardScaler\n",
        "import warnings\n",
        "warnings.filterwarnings('ignore')\n",
        "import joblib\n",
        "\n",
        "\n",
        "df = pd.read_csv('diabetes.csv')\n",
        "drop_columns = [\"Outcome\",\"Insulin\",\"SkinThickness\"]\n",
        "data = df.drop(columns=drop_columns)\n",
        "\n",
        "\n",
        "svm = joblib.load('svm_model.pkl')\n",
        "calibrated_svc = joblib.load('calibrated_svc.pkl')"
      ],
      "metadata": {
        "id": "SNz5s15fWTxp"
      },
      "execution_count": 5,
      "outputs": []
    },
    {
      "cell_type": "code",
      "execution_count": 8,
      "metadata": {
        "colab": {
          "base_uri": "https://localhost:8080/"
        },
        "id": "drlq-A0mWN3E",
        "outputId": "52ab987c-e2e8-4ebb-9784-02c7c4c1fb52"
      },
      "outputs": [
        {
          "output_type": "stream",
          "name": "stdout",
          "text": [
            "Porfavor ingrese los datos del paciente.\n",
            "Pregnancies: 4\n",
            "Glucose: 99\n",
            "BloodPressure: 76\n",
            "BMI: 23.2\n",
            "DiabetesPedigreeFunction: 0.223\n",
            "Age: 21\n",
            "Es mas probable que no tenga diabetes\n",
            "con un porcentaje de acierto de: 0.9277724054513206\n"
          ]
        }
      ],
      "source": [
        "features = data.columns\n",
        "predict = {}\n",
        "# ciclo para recolectar los datos del paciente\n",
        "print(\"Porfavor ingrese los datos del paciente.\")\n",
        "for feature in features:\n",
        "    val = input(feature + \": \")\n",
        "    predict[feature] = [float(val)]\n",
        "\n",
        "# necesitamos tener la informacion del paciente en forma de array\n",
        "patient_data = np.array(list(predict.values()))\n",
        "patient_data = patient_data.reshape(1,6)\n",
        "\n",
        "#estandarizamos para el correcto rendimiento del modelo\n",
        "scaler = StandardScaler()\n",
        "scaler.fit(data)\n",
        "standardized = scaler.transform(patient_data)\n",
        "\n",
        "#calculamos las probabilidades de acierto\n",
        "probabilities = calibrated_svc.predict_proba(standardized)\n",
        "\n",
        "diabetes_probability = probabilities[0][1]\n",
        "\n",
        "predictions = svm.predict(standardized)\n",
        "\n",
        "if predictions == 1:\n",
        "        print(\"Es mas probable que tenga diabetes\")\n",
        "        print(f\"con un porcentaje de acierto de: {probabilities[0][1]}\")\n",
        "else:\n",
        "        print(\"Es mas probable que no tenga diabetes\")\n",
        "        print(f\"con un porcentaje de acierto de: {probabilities[0][0]}\")"
      ]
    }
  ]
}